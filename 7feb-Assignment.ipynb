{
 "cells": [
  {
   "cell_type": "code",
   "execution_count": 1,
   "id": "244a5a90-9365-4d30-b9bd-702fe4f8b2da",
   "metadata": {},
   "outputs": [
    {
     "name": "stdin",
     "output_type": "stream",
     "text": [
      "Enter the Password:  hgyug\n"
     ]
    },
    {
     "name": "stdout",
     "output_type": "stream",
     "text": [
      "Invalid Password\n"
     ]
    }
   ],
   "source": [
    "# Q.1.Answer\n",
    "\n",
    "def check_pass(pas):\n",
    "    if len(pas)==10:\n",
    "        upper_count=0\n",
    "        lower_count=0\n",
    "        num_count=0\n",
    "        special_count=0\n",
    "        for i in pas:\n",
    "            if i.isupper():\n",
    "                upper_count+=1\n",
    "            if i.islower():\n",
    "                lower_count+=1\n",
    "            if i.isdigit():\n",
    "                num_count+=1\n",
    "            if i in ['!','@','#','$','%','^','&','*','(',')']:\n",
    "                special_count+=1\n",
    "                \n",
    "        if upper_count>=2 and lower_count>=2 and num_count>=1 and special_count>=3:\n",
    "            return True\n",
    "    else:\n",
    "        return 0\n",
    "    \n",
    "\n",
    "pas=input(\"Enter the Password: \")\n",
    "\n",
    "result=check_pass(pas)\n",
    "\n",
    "if result :\n",
    "    print('Valid Password')\n",
    "    \n",
    "else:\n",
    "    print('Invalid Password')\n",
    "\n",
    "        \n",
    "            \n",
    "        "
   ]
  },
  {
   "cell_type": "code",
   "execution_count": 2,
   "id": "61c5d575-510b-4fe9-b622-999e9187205c",
   "metadata": {},
   "outputs": [
    {
     "name": "stdout",
     "output_type": "stream",
     "text": [
      "True\n"
     ]
    }
   ],
   "source": [
    "# Q.2.Answer\n",
    "\n",
    "# (1). Check if the string starts with a particular letter\n",
    "\n",
    "list1=['Parash', 'Praveen','nikhil', 'polo']\n",
    "letter='p'\n",
    "list2=list(filter(lambda x :x.lower().startswith(letter),list1))\n",
    "\n",
    "if len(list2)>0:\n",
    "    print(True)\n",
    "else:\n",
    "    print(False)"
   ]
  },
  {
   "cell_type": "code",
   "execution_count": 3,
   "id": "c7d84e5d-d51d-4137-a904-eb035755d51a",
   "metadata": {},
   "outputs": [
    {
     "name": "stdout",
     "output_type": "stream",
     "text": [
      "True\n"
     ]
    }
   ],
   "source": [
    "\n",
    "# (2). Check if the string is numeric \n",
    "\n",
    "strings = ['123', 'abc', '456', 'def']\n",
    "\n",
    "num_list=list(filter(lambda x: x.isdigit(), strings))\n",
    "\n",
    "if len(num_list)>0:\n",
    "    print(True)\n",
    "else:\n",
    "    print(False)"
   ]
  },
  {
   "cell_type": "code",
   "execution_count": 4,
   "id": "f34fba5a-4853-4ce9-8da1-8b11adf7ef1d",
   "metadata": {},
   "outputs": [
    {
     "data": {
      "text/plain": [
       "[('orange', 80), ('mango', 99), ('grapes', 1000)]"
      ]
     },
     "execution_count": 4,
     "metadata": {},
     "output_type": "execute_result"
    }
   ],
   "source": [
    "# (3). Sort a list of tuples having fruit names and their quantity. [(\"mango\",99),(\"orange\",80), (\"grapes\", 1000)]\n",
    "\n",
    "fruits=[(\"mango\",99),(\"orange\",80), (\"grapes\", 1000)]\n",
    "\n",
    "sorted_fruits=sorted(fruits,key=lambda x: x[1])\n",
    "sorted_fruits"
   ]
  },
  {
   "cell_type": "code",
   "execution_count": 5,
   "id": "d520e349-7446-4bc2-a95c-a94cd502d3e7",
   "metadata": {},
   "outputs": [
    {
     "name": "stdout",
     "output_type": "stream",
     "text": [
      "[1, 4, 9, 16, 25, 36, 49, 64, 81, 100]\n"
     ]
    }
   ],
   "source": [
    "# (4). Find the squares of numbers from 1 to 10 \n",
    "\n",
    "num=[i**2 for i in range(1,11)]\n",
    "print(num)"
   ]
  },
  {
   "cell_type": "code",
   "execution_count": 6,
   "id": "29f1d454-af14-4e61-a97c-60e018a00c57",
   "metadata": {},
   "outputs": [
    {
     "data": {
      "text/plain": [
       "[1, 8, 27, 64, 125, 216, 343, 512, 729, 1000]"
      ]
     },
     "execution_count": 6,
     "metadata": {},
     "output_type": "execute_result"
    }
   ],
   "source": [
    "# (5). Find the cube root of numbers from 1 to 10 \n",
    "\n",
    "num=[i**3 for i in range(1,11)]\n",
    "num"
   ]
  },
  {
   "cell_type": "code",
   "execution_count": 7,
   "id": "a907096f-6783-43ba-ab95-4d5a9af4c594",
   "metadata": {},
   "outputs": [
    {
     "data": {
      "text/plain": [
       "[554, 56, 4, 34]"
      ]
     },
     "execution_count": 7,
     "metadata": {},
     "output_type": "execute_result"
    }
   ],
   "source": [
    "# (6). Check if a given number is even\n",
    "\n",
    "n=[51,415,515,554,56,5,485,25,65,4,345,34]\n",
    "even_num=list(filter(lambda x:x%2==0,n))\n",
    "\n",
    "even_num"
   ]
  },
  {
   "cell_type": "code",
   "execution_count": 8,
   "id": "b3be1dc4-235f-486b-9b78-900d7f66ba4e",
   "metadata": {},
   "outputs": [
    {
     "data": {
      "text/plain": [
       "[51, 415, 515, 5, 485, 25, 65, 345]"
      ]
     },
     "execution_count": 8,
     "metadata": {},
     "output_type": "execute_result"
    }
   ],
   "source": [
    "# (7). Check if a given number is odd\n",
    "\n",
    "n=[51,415,515,554,56,5,485,25,65,4,345,34]\n",
    "odd_num=list(filter(lambda x:x%2!=0,n))\n",
    "\n",
    "odd_num"
   ]
  },
  {
   "cell_type": "code",
   "execution_count": 8,
   "id": "20a218dc-9d72-4870-8762-42e3cb07d8ee",
   "metadata": {},
   "outputs": [
    {
     "name": "stdout",
     "output_type": "stream",
     "text": [
      "[0, 1, 2, 3, 4, 5, 6]\n",
      "[-5, -4, -3, -2, -1]\n"
     ]
    }
   ],
   "source": [
    "# (8). Sort a list of integers into positive and negative integers lists. [1,2,3,4,5,6,-1,-2,-3,-4,-5,0]\n",
    "\n",
    "n=[1,2,3,4,5,6,-1,-2,-3,-4,-5,0]\n",
    "\n",
    "pos_num=sorted(list(filter(lambda x:x>=0 ,n)))\n",
    "neg_num=sorted(list(filter(lambda x:x<0 ,n)))\n",
    "print(pos_num)\n",
    "print(neg_num)"
   ]
  },
  {
   "cell_type": "code",
   "execution_count": null,
   "id": "c09cdbb0-2333-4d75-94cf-15ba22d312e4",
   "metadata": {},
   "outputs": [],
   "source": []
  }
 ],
 "metadata": {
  "kernelspec": {
   "display_name": "Python 3 (ipykernel)",
   "language": "python",
   "name": "python3"
  },
  "language_info": {
   "codemirror_mode": {
    "name": "ipython",
    "version": 3
   },
   "file_extension": ".py",
   "mimetype": "text/x-python",
   "name": "python",
   "nbconvert_exporter": "python",
   "pygments_lexer": "ipython3",
   "version": "3.10.8"
  }
 },
 "nbformat": 4,
 "nbformat_minor": 5
}
